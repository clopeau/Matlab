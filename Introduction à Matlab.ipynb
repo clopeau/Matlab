{
 "cells": [
  {
   "cell_type": "markdown",
   "metadata": {},
   "source": [
    "# Introduction à MATLAB\n",
    "\n",
    "Ce petit notebook parcourt l'essentiel des notions à connaitre pour une utilisation basique de Matlab.\n",
    "\n",
    "MATLAB (MATrix LABoratory) est un logiciel et un langage de programmation associé créé par la société The MathWorks en 1984.\n",
    "\n",
    "MATLAB (le logiciel) a la spécificité d'avoir une interface en ligne de commande qui permet d’exécuter des commandes simples. Des séquences de commandes peuvent être sauvegardés dans un fichier texte, typiquement avec l’éditeur MATLAB, sous la forme d’un « script » ou encapsulé dans une fonction. L'exécution d'un script se déroulant comme une exécution ligne à ligne des commandes contenues dans le script. On dit que MATLAB est un langage interprété (au contraire de compiler).\n",
    "\n",
    "**Remarque :** la combinaison des touches [Maj]+[Enter] évalue la cellule et passe à la suivante.\n",
    "\n",
    "# Prise en main et interface\n",
    "\n",
    "![alt text](http://www.cs.uic.edu/~jbell/CourseNotes/Matlab/images/Environment.jpg \"MATLAB sur le bureau\")\n",
    "\n",
    "# La console (Command window)\n",
    "\n",
    "La spécificité de MATLAB et son interaction en ligne de commande avec une manipulation simple comme une calculatrice."
   ]
  },
  {
   "cell_type": "code",
   "execution_count": null,
   "metadata": {
    "collapsed": false
   },
   "outputs": [],
   "source": [
    "help help"
   ]
  },
  {
   "cell_type": "code",
   "execution_count": null,
   "metadata": {
    "collapsed": false
   },
   "outputs": [],
   "source": [
    "lookfor eye"
   ]
  },
  {
   "cell_type": "markdown",
   "metadata": {},
   "source": [
    "## Opérations arithmétiques usuelles : +, -, *, /, \\, ^"
   ]
  },
  {
   "cell_type": "code",
   "execution_count": 1,
   "metadata": {
    "collapsed": false
   },
   "outputs": [
    {
     "data": {
      "text/plain": [
       "ans =\n",
       "\n",
       "    -8"
      ]
     },
     "execution_count": 1,
     "metadata": {},
     "output_type": "execute_result"
    }
   ],
   "source": [
    "2+2^3-3*6 % expression classique"
   ]
  },
  {
   "cell_type": "code",
   "execution_count": 3,
   "metadata": {
    "collapsed": false
   },
   "outputs": [
    {
     "data": {
      "text/plain": [
       "ans =\n",
       "\n",
       "    0.5000\n",
       "\n",
       "\n",
       "ans =\n",
       "\n",
       "    0.5000"
      ]
     },
     "execution_count": 3,
     "metadata": {},
     "output_type": "execute_result"
    }
   ],
   "source": [
    "1/2  % division à droite \n",
    "2\\1  % division à gauche !!!"
   ]
  },
  {
   "cell_type": "code",
   "execution_count": 4,
   "metadata": {
    "collapsed": false
   },
   "outputs": [
    {
     "data": {
      "text/plain": [
       "ans =\n",
       "\n",
       "     4\n",
       "\n",
       "\n",
       "ans =\n",
       "\n",
       "    0.2500"
      ]
     },
     "execution_count": 4,
     "metadata": {},
     "output_type": "execute_result"
    }
   ],
   "source": [
    "(1+3)^2/4 % quel est le résultat ?\n",
    "(1+3)/2^4 % idem"
   ]
  },
  {
   "cell_type": "code",
   "execution_count": 5,
   "metadata": {
    "collapsed": false
   },
   "outputs": [
    {
     "data": {
      "text/plain": [
       "ans =\n",
       "\n",
       "    -3\n",
       "\n",
       "\n",
       "ans =\n",
       "\n",
       "    -3"
      ]
     },
     "execution_count": 5,
     "metadata": {},
     "output_type": "execute_result"
    }
   ],
   "source": [
    "-(4)/2/2*3 % une idée sur le résultat ?\n",
    "-4*3/2/2 "
   ]
  },
  {
   "cell_type": "markdown",
   "metadata": {},
   "source": [
    "Les expressions sont évaluées de gauche vers la droite avec l'ordre de priorité suivant :\n",
    "\n",
    "| Niveau | Opération |\n",
    "|:-:|:-|\n",
    "|1 |Parenthèses $()$ |\n",
    "|2 |Transpose ($.'$), puissance (.^), conjuguée complexe ($'$), puissance de matrice (^)|\n",
    "|3 |plus unitaire (+), moins unitaire (-), negation logique (~)|\n",
    "|4 | Multiplication ($.*$), division à droite (./), division à gauche (.\\), multiplication matricielle ($*$), division matricielle à droite (/), division matricielle à gauche ($\\backslash$)|\n",
    "|5 | Addition (+), soustraction (-)|\n",
    "|6 |Operateur colonne (:)|\n",
    "|7 |plus petit que (<), plus petit ou égal (<=), plus grand que (>), plus grand ou égal (>=), égal à (==), pas égal à (~=)|\n",
    "|8 | ET (AND) logique élément par élément (&)|\n",
    "|9 | OU (OR) logique élément par élément ($|$)|\n",
    "|10 |Short-circuit AND (&&)|\n",
    "|11 |Short-circuit OR ($||$)|"
   ]
  },
  {
   "cell_type": "markdown",
   "metadata": {},
   "source": [
    "## Les fonctions scientifiques :\n",
    "\n",
    "| fonctions ||\n",
    "|:-:|:-|\n",
    "|abs()| Valeur absolue ou module|\n",
    "|acos()| Cosinus inverse|\n",
    "|acosh()| Cosinus inverse hyperbolique|\n",
    "|asin()| Sinus inverse|\n",
    "|asinh()| Sinus inverse hyperbolique|\n",
    "|atan()| Tangente inverse|\n",
    "|atanh()| Tangente inverse hyperbolique|\n",
    "|cos()| Cosinus (en radian)|\n",
    "|cosh()| Cosinus hyperbolique|\n",
    "|cotg()| Cotangente (en radian)|\n",
    "|coth()| Cotangente hyperbolique|\n",
    "|erf()| Fonction erreur : erf(x)=$\\frac{1}{\\sqrt{2\\pi}}\\int_{-\\infty}^x e^{-t^2} dt$|\n",
    "|erfc()| Fonction erreur complementaire ´ : erfc(x)=1-erf(x)|\n",
    "|exp()| Exponentielle|\n",
    "|gamma()| Fonction $\\Gamma(x)=\\int_0^{+\\infty} t^{x-1}e^{-t}dt$\n",
    "|gammaln()| Logarithme de la fonction $\\Gamma$|\n",
    "|log()| Logarithme nepérien |\n",
    "|log10()| Logarithme decimal |\n",
    "|log2()| Logarithme binaire |\n",
    "|sign()| Fonction signe|\n",
    "|sin()| Sinus (en radian)|\n",
    "|sinh()| Sinus hyperbolique|\n",
    "|sqrt()| Racine carrée|\n",
    "|tan()| Tangente (en radian)|\n",
    "|tanh()| Tangente hyperbolique|"
   ]
  },
  {
   "cell_type": "code",
   "execution_count": 6,
   "metadata": {
    "collapsed": false
   },
   "outputs": [
    {
     "data": {
      "text/plain": [
       "ans =\n",
       "\n",
       "     0\n",
       "\n",
       "\n",
       "ans =\n",
       "\n",
       "     1"
      ]
     },
     "execution_count": 6,
     "metadata": {},
     "output_type": "execute_result"
    }
   ],
   "source": [
    "log(exp(0)) % logarithme népérien\n",
    "log10(10) % logaritme décimal"
   ]
  },
  {
   "cell_type": "code",
   "execution_count": 7,
   "metadata": {
    "collapsed": false
   },
   "outputs": [
    {
     "data": {
      "text/plain": [
       "ans =\n",
       "\n",
       "    -1\n",
       "\n",
       "\n",
       "ans =\n",
       "\n",
       "     0\n",
       "\n",
       "\n",
       "ans =\n",
       "\n",
       "     1"
      ]
     },
     "execution_count": 7,
     "metadata": {},
     "output_type": "execute_result"
    }
   ],
   "source": [
    "sign(-sqrt(2)) % fonction sign\n",
    "sign(0)\n",
    "sign(2)"
   ]
  },
  {
   "cell_type": "markdown",
   "metadata": {},
   "source": [
    "| fonctions d'arrondi||\n",
    "|:-:|:-|\n",
    "|ceil()| Partie entiere \"par exces\"|\n",
    "|fix()| Partie entiere \"la plus proche de 0\"|\n",
    "|floor()| Partie entiere \"inferieure\"|\n",
    "|round()| Arrondi à l’entier le plus proche|\n"
   ]
  },
  {
   "cell_type": "code",
   "execution_count": null,
   "metadata": {
    "collapsed": false
   },
   "outputs": [],
   "source": [
    "ceil(0.6)\n",
    "ceil(-0.6)\n",
    "fix(0.6)"
   ]
  },
  {
   "cell_type": "markdown",
   "metadata": {
    "collapsed": false
   },
   "source": [
    "## Variables prédéfinies :"
   ]
  },
  {
   "cell_type": "code",
   "execution_count": 8,
   "metadata": {
    "collapsed": false
   },
   "outputs": [
    {
     "data": {
      "text/plain": [
       "ans =\n",
       "\n",
       "   3.141592653589793\n",
       "\n",
       "\n",
       "ans =\n",
       "\n",
       "     1.224646799147353e-16\n",
       "\n",
       "\n",
       "ans =\n",
       "\n",
       "     1"
      ]
     },
     "execution_count": 8,
     "metadata": {},
     "output_type": "execute_result"
    }
   ],
   "source": [
    "format long  % pour afficher 15 déciales\n",
    "pi\n",
    "sin(pi) % presque 0....\n",
    "sin(pi/2)\n",
    "format short % seulement 5 décimales à l'affichage"
   ]
  },
  {
   "cell_type": "code",
   "execution_count": 9,
   "metadata": {
    "collapsed": false
   },
   "outputs": [
    {
     "data": {
      "text/plain": [
       "ans =\n",
       "\n",
       "   2.2204e-16\n",
       "\n",
       "\n",
       "ans =\n",
       "\n",
       "     1"
      ]
     },
     "execution_count": 9,
     "metadata": {},
     "output_type": "execute_result"
    }
   ],
   "source": [
    "eps  %la précision relative des calculs en virgule flottante sous Matlab\n",
    "1+eps/2==1 % cette égalité est vraie !"
   ]
  },
  {
   "cell_type": "code",
   "execution_count": 10,
   "metadata": {
    "collapsed": false
   },
   "outputs": [
    {
     "data": {
      "text/plain": [
       "ans =\n",
       "\n",
       "  1.7977e+308\n",
       "\n",
       "\n",
       "ans =\n",
       "\n",
       "  2.2251e-308"
      ]
     },
     "execution_count": 10,
     "metadata": {},
     "output_type": "execute_result"
    }
   ],
   "source": [
    "realmax\n",
    "realmin"
   ]
  },
  {
   "cell_type": "code",
   "execution_count": 11,
   "metadata": {
    "collapsed": false
   },
   "outputs": [
    {
     "data": {
      "text/plain": [
       "ans =\n",
       "\n",
       "     0\n",
       "\n",
       "\n",
       "ans =\n",
       "\n",
       "   Inf\n",
       "\n",
       "\n",
       "ans =\n",
       "\n",
       "   Inf"
      ]
     },
     "execution_count": 11,
     "metadata": {},
     "output_type": "execute_result"
    }
   ],
   "source": [
    "1/inf  % inf représente l'infinie\n",
    "1/0   % certaines opérations sont permises...\n",
    "inf/0"
   ]
  },
  {
   "cell_type": "code",
   "execution_count": 13,
   "metadata": {
    "collapsed": false
   },
   "outputs": [
    {
     "data": {
      "text/plain": [
       "ans =\n",
       "\n",
       "     0\n",
       "\n",
       "\n",
       "ans =\n",
       "\n",
       "   Inf\n",
       "\n",
       "\n",
       "ans =\n",
       "\n",
       "   Inf"
      ]
     },
     "execution_count": 13,
     "metadata": {},
     "output_type": "execute_result"
    }
   ],
   "source": [
    "1/inf\n",
    "inf+1\n",
    "inf*4"
   ]
  },
  {
   "cell_type": "code",
   "execution_count": 14,
   "metadata": {
    "collapsed": false
   },
   "outputs": [
    {
     "data": {
      "text/plain": [
       "ans =\n",
       "\n",
       "   NaN\n",
       "\n",
       "\n",
       "ans =\n",
       "\n",
       "   NaN"
      ]
     },
     "execution_count": 14,
     "metadata": {},
     "output_type": "execute_result"
    }
   ],
   "source": [
    "inf/inf % les formes indéterminées restent\n",
    "inf*0"
   ]
  },
  {
   "cell_type": "markdown",
   "metadata": {},
   "source": [
    "## Calcul complexe"
   ]
  },
  {
   "cell_type": "code",
   "execution_count": 15,
   "metadata": {
    "collapsed": false
   },
   "outputs": [
    {
     "data": {
      "text/plain": [
       "ans =\n",
       "\n",
       "   0.0000 + 1.0000i\n",
       "\n",
       "\n",
       "ans =\n",
       "\n",
       "   0.0000 + 1.1752i\n",
       "\n",
       "\n",
       "ans =\n",
       "\n",
       "   0.0000 + 1.5708i\n",
       "\n",
       "\n",
       "ans =\n",
       "\n",
       "   0.4288 + 0.1549i"
      ]
     },
     "execution_count": 15,
     "metadata": {},
     "output_type": "execute_result"
    }
   ],
   "source": [
    "i  %variable prédéfinit (i)^2=-1\n",
    "sin(i) % une extension naturelle des fonctions aux complexes\n",
    "log(i)\n",
    "(1+i)^i"
   ]
  },
  {
   "cell_type": "code",
   "execution_count": 16,
   "metadata": {
    "collapsed": false
   },
   "outputs": [
    {
     "data": {
      "text/plain": [
       "ans =\n",
       "\n",
       "   0.0000 + 1.0000i"
      ]
     },
     "execution_count": 16,
     "metadata": {},
     "output_type": "execute_result"
    }
   ],
   "source": [
    "sqrt(-1) % attention de fait ici il n'y a pas d'erreur"
   ]
  },
  {
   "cell_type": "code",
   "execution_count": 17,
   "metadata": {
    "collapsed": false
   },
   "outputs": [
    {
     "data": {
      "text/plain": [
       "ans =\n",
       "\n",
       "     1"
      ]
     },
     "execution_count": 17,
     "metadata": {},
     "output_type": "execute_result"
    }
   ],
   "source": [
    "imag(i)  % partie imaginaire"
   ]
  },
  {
   "cell_type": "code",
   "execution_count": 18,
   "metadata": {
    "collapsed": false
   },
   "outputs": [
    {
     "data": {
      "text/plain": [
       "ans =\n",
       "\n",
       "     0"
      ]
     },
     "execution_count": 18,
     "metadata": {},
     "output_type": "execute_result"
    }
   ],
   "source": [
    "real(i)  % partie réelle"
   ]
  },
  {
   "cell_type": "code",
   "execution_count": 19,
   "metadata": {
    "collapsed": false
   },
   "outputs": [
    {
     "data": {
      "text/plain": [
       "ans =\n",
       "\n",
       "    1.4142"
      ]
     },
     "execution_count": 19,
     "metadata": {},
     "output_type": "execute_result"
    }
   ],
   "source": [
    "abs(1+i) % module"
   ]
  },
  {
   "cell_type": "markdown",
   "metadata": {},
   "source": [
    "## Les booléens :\n",
    "\n",
    "Sous MATLAB le booléen (1 bit) est composé des deux valeurs 0 (faux) et 1 (vrai), par extension toute valeur non nulle est considérée comme vrai.\n",
    "\n",
    "Opérateurs de comparaison : \n",
    "\n",
    "| symbole | fonction |\n",
    "|:-:|-|\n",
    "|a<b| a stritement inférieur à b|\n",
    "|a<=b| a inféieur ou égale à b|\n",
    "|a>b| a stritement supérieur à b|\n",
    "|a>=b| a supérieur ou égale à b|\n",
    "|a==b| a égale à b |\n",
    "|a~=b| a différent de b|\n",
    "\n",
    "Opérateurs logiques :\n",
    "\n",
    "| symbole | fonction |\n",
    "|:-:|-|\n",
    "| & | et (AND) |\n",
    "| $|$ | ou (OR)|\n",
    "| ~| négation (NOT)|"
   ]
  },
  {
   "cell_type": "code",
   "execution_count": 24,
   "metadata": {
    "collapsed": false
   },
   "outputs": [
    {
     "data": {
      "text/plain": [
       "ans =\n",
       "\n",
       "     1"
      ]
     },
     "execution_count": 24,
     "metadata": {},
     "output_type": "execute_result"
    }
   ],
   "source": [
    "(1<2) & 3"
   ]
  },
  {
   "cell_type": "code",
   "execution_count": 21,
   "metadata": {
    "collapsed": false
   },
   "outputs": [
    {
     "data": {
      "text/plain": [
       "ans =\n",
       "\n",
       "     0\n",
       "\n",
       "\n",
       "ans =\n",
       "\n",
       "     1\n",
       "\n",
       "\n",
       "ans =\n",
       "\n",
       "     0\n",
       "\n",
       "\n",
       "ans =\n",
       "\n",
       "     0"
      ]
     },
     "execution_count": 21,
     "metadata": {},
     "output_type": "execute_result"
    }
   ],
   "source": [
    "2==3\n",
    "2~=3\n",
    "2>=3\n",
    "2>3"
   ]
  },
  {
   "cell_type": "code",
   "execution_count": 23,
   "metadata": {
    "collapsed": false
   },
   "outputs": [
    {
     "data": {
      "text/plain": [
       "ans =\n",
       "\n",
       "     1"
      ]
     },
     "execution_count": 23,
     "metadata": {},
     "output_type": "execute_result"
    }
   ],
   "source": [
    "(1&0)|2"
   ]
  },
  {
   "cell_type": "markdown",
   "metadata": {},
   "source": [
    "| |Fonctions booléennes (logical) \n",
    "|-|-|\n",
    "|all() |Vrai si tous les éléments d’un vecteur sont non nuls|\n",
    "|any()| Vrai si au moins un élément d’un vecteur est non nul|\n",
    "|exist()| Vérifie si une variable ou une fonction existe |\n",
    "|find()| Retourne les indices des élélements non nuls|\n",
    "|isempty()| Vrai pour matrice vide|\n",
    "|isinf()| Vrai pour élément infini|\n",
    "|isnan() | Vrai pour NaN (Not-a-Number)|\n",
    "|issparse() | Vrai pour matrice creuse |\n",
    "|isstr() | Vrai pour chaine de caractère|"
   ]
  },
  {
   "cell_type": "markdown",
   "metadata": {},
   "source": [
    "## Les chaines de caractère\n",
    "\n",
    "la simple quote (') délimite une chaine de caractère"
   ]
  },
  {
   "cell_type": "code",
   "execution_count": 27,
   "metadata": {
    "collapsed": false
   },
   "outputs": [
    {
     "data": {
      "text/plain": [
       "txt =\n",
       "\n",
       "une chaine"
      ]
     },
     "execution_count": 27,
     "metadata": {},
     "output_type": "execute_result"
    }
   ],
   "source": [
    "txt='une chaine'"
   ]
  },
  {
   "cell_type": "markdown",
   "metadata": {},
   "source": [
    "Cette chaine est gérée comme un tableau avec des indices commançant à 1"
   ]
  },
  {
   "cell_type": "code",
   "execution_count": 28,
   "metadata": {
    "collapsed": false
   },
   "outputs": [
    {
     "data": {
      "text/plain": [
       "ans =\n",
       "\n",
       "    10"
      ]
     },
     "execution_count": 28,
     "metadata": {},
     "output_type": "execute_result"
    }
   ],
   "source": [
    "length(txt)"
   ]
  },
  {
   "cell_type": "markdown",
   "metadata": {},
   "source": [
    "la quote (') est aussi un caractère il faut la doubler dans sa déclaration"
   ]
  },
  {
   "cell_type": "code",
   "execution_count": 29,
   "metadata": {
    "collapsed": false
   },
   "outputs": [
    {
     "data": {
      "text/plain": [
       "txt2 =\n",
       "\n",
       "c'est une vraie chaine"
      ]
     },
     "execution_count": 29,
     "metadata": {},
     "output_type": "execute_result"
    }
   ],
   "source": [
    "txt2='c''est une vraie chaine'"
   ]
  },
  {
   "cell_type": "markdown",
   "metadata": {},
   "source": [
    "On peut convertir un nombre en chaine de caractère"
   ]
  },
  {
   "cell_type": "code",
   "execution_count": 31,
   "metadata": {
    "collapsed": false
   },
   "outputs": [
    {
     "data": {
      "text/plain": [
       "tt =\n",
       "\n",
       "1.4142"
      ]
     },
     "execution_count": 31,
     "metadata": {},
     "output_type": "execute_result"
    }
   ],
   "source": [
    "tt=num2str(sqrt(2))"
   ]
  },
  {
   "cell_type": "markdown",
   "metadata": {},
   "source": [
    "Concaténer (mettre bout à bout) deux chaines"
   ]
  },
  {
   "cell_type": "code",
   "execution_count": 32,
   "metadata": {
    "collapsed": false
   },
   "outputs": [
    {
     "data": {
      "text/plain": [
       "txt =\n",
       "\n",
       "racine de 2 vaut : 1.4142"
      ]
     },
     "execution_count": 32,
     "metadata": {},
     "output_type": "execute_result"
    }
   ],
   "source": [
    "txt=['racine de 2 vaut : ', num2str(sqrt(2))]"
   ]
  },
  {
   "cell_type": "markdown",
   "metadata": {},
   "source": [
    "Il est également possible d'évaluer une chaine de caractère "
   ]
  },
  {
   "cell_type": "code",
   "execution_count": 33,
   "metadata": {
    "collapsed": false
   },
   "outputs": [
    {
     "data": {
      "text/plain": [
       "txt =\n",
       "\n",
       "1+2\n",
       "\n",
       "\n",
       "ans =\n",
       "\n",
       "     3"
      ]
     },
     "execution_count": 33,
     "metadata": {},
     "output_type": "execute_result"
    }
   ],
   "source": [
    "txt='1+2'\n",
    "eval(txt)"
   ]
  },
  {
   "cell_type": "markdown",
   "metadata": {},
   "source": [
    "## Les variables :"
   ]
  },
  {
   "cell_type": "code",
   "execution_count": 34,
   "metadata": {
    "collapsed": false
   },
   "outputs": [
    {
     "data": {
      "text/plain": [
       "a =\n",
       "\n",
       "     1\n",
       "\n",
       "\n",
       "b =\n",
       "\n",
       "     2"
      ]
     },
     "execution_count": 34,
     "metadata": {},
     "output_type": "execute_result"
    }
   ],
   "source": [
    "a=1 % pas de déclaration préalable le = d'affectaion suffit\n",
    "b=a+1"
   ]
  },
  {
   "cell_type": "code",
   "execution_count": 35,
   "metadata": {
    "collapsed": false
   },
   "outputs": [
    {
     "data": {
      "text/plain": [
       "a =\n",
       "\n",
       "     0"
      ]
     },
     "execution_count": 35,
     "metadata": {},
     "output_type": "execute_result"
    }
   ],
   "source": [
    "a=(1>2)"
   ]
  },
  {
   "cell_type": "code",
   "execution_count": 36,
   "metadata": {
    "collapsed": false
   },
   "outputs": [
    {
     "data": {
      "text/plain": [
       "a =\n",
       "\n",
       "une chaine de caractere"
      ]
     },
     "execution_count": 36,
     "metadata": {},
     "output_type": "execute_result"
    }
   ],
   "source": [
    "a='une chaine de caractere'"
   ]
  },
  {
   "cell_type": "code",
   "execution_count": 38,
   "metadata": {
    "collapsed": false
   },
   "outputs": [
    {
     "data": {
      "text/plain": [
       "A =\n",
       "\n",
       "     2\n",
       "\n",
       "\n",
       "a =\n",
       "\n",
       "     3\n",
       "\n",
       "\n",
       "ans =\n",
       "\n",
       "     0\n",
       "\n",
       "\n",
       "A_23 =\n",
       "\n",
       "     1"
      ]
     },
     "execution_count": 38,
     "metadata": {},
     "output_type": "execute_result"
    }
   ],
   "source": [
    "A=2\n",
    "a=3% les noms des variables commencent par une lettre de l'alphabet avec une distinction majuscule minuscule\n",
    "A==a  % les signes $,?,!...sont interdits\n",
    "A_23=1"
   ]
  },
  {
   "cell_type": "markdown",
   "metadata": {
    "collapsed": false
   },
   "source": [
    "### Gestions des variables"
   ]
  },
  {
   "cell_type": "code",
   "execution_count": 39,
   "metadata": {
    "collapsed": false
   },
   "outputs": [
    {
     "data": {
      "text/plain": [
       "Name      Size            Bytes  Class      Attributes\n",
       "\n",
       "  A         1x1                 8  double               \n",
       "  A_23      1x1                 8  double               \n",
       "  a         1x1                 8  double               \n",
       "  ans       1x1                 1  logical              \n",
       "  b         1x1                 8  double               \n",
       "  tt        1x6                12  char                 \n",
       "  txt       1x3                 6  char                 \n",
       "  txt2      1x22               44  char"
      ]
     },
     "execution_count": 39,
     "metadata": {},
     "output_type": "execute_result"
    }
   ],
   "source": [
    "whos % renvois la liste des variables utilisées "
   ]
  },
  {
   "cell_type": "code",
   "execution_count": 40,
   "metadata": {
    "collapsed": false
   },
   "outputs": [
    {
     "data": {
      "text/plain": [
       "Your variables are:\n",
       "\n",
       "A     A_23  a     ans   b     tt    txt   txt2"
      ]
     },
     "execution_count": 40,
     "metadata": {},
     "output_type": "execute_result"
    }
   ],
   "source": [
    "who"
   ]
  },
  {
   "cell_type": "code",
   "execution_count": null,
   "metadata": {
    "collapsed": true
   },
   "outputs": [],
   "source": []
  },
  {
   "cell_type": "code",
   "execution_count": null,
   "metadata": {
    "collapsed": false
   },
   "outputs": [],
   "source": [
    "save 'monfichier.mat' A % sauvegarde d'une variable dans un fichier"
   ]
  },
  {
   "cell_type": "code",
   "execution_count": null,
   "metadata": {
    "collapsed": false
   },
   "outputs": [],
   "source": [
    "clear A % efface la variable A de la mémoire\n",
    "clear   % efface toutes les variables"
   ]
  },
  {
   "cell_type": "code",
   "execution_count": null,
   "metadata": {
    "collapsed": false
   },
   "outputs": [],
   "source": [
    "whos \n",
    "load 'monfichier.mat' % charge la variable A contenue dans le fichier\n",
    "whos"
   ]
  },
  {
   "cell_type": "markdown",
   "metadata": {},
   "source": [
    "## Tableaux et matrices :"
   ]
  },
  {
   "cell_type": "code",
   "execution_count": 44,
   "metadata": {
    "collapsed": false
   },
   "outputs": [
    {
     "data": {
      "text/plain": [
       "a =\n",
       "\n",
       "     2     3     4     7     9\n",
       "\n",
       "\n",
       "b =\n",
       "\n",
       "     2\n",
       "     3\n",
       "     4\n",
       "     7\n",
       "     9\n",
       "\n",
       "\n",
       "a =\n",
       "\n",
       "     2     3     4     7     9\n",
       "     2     3     4     7     9\n",
       "     2     3     4     5     6\n",
       "\n",
       "\n",
       "A =\n",
       "\n",
       "     []"
      ]
     },
     "execution_count": 44,
     "metadata": {},
     "output_type": "execute_result"
    }
   ],
   "source": [
    "a=[2,3 4 7 9]  % constructeur en ligne\n",
    "b=[2;3;4;7;9]  % constructeur en colonne\n",
    "a=[a ; a ; 2 3 4 5 6]    % concatenation\n",
    "A=[]           % tableau vide"
   ]
  },
  {
   "cell_type": "code",
   "execution_count": 45,
   "metadata": {
    "collapsed": false
   },
   "outputs": [
    {
     "data": {
      "text/plain": [
       "A =\n",
       "\n",
       "     1     2\n",
       "     3     4\n",
       "\n",
       "\n",
       "A =\n",
       "\n",
       "     1     2     1     2\n",
       "     3     4     3     4\n",
       "     1     7     3     4"
      ]
     },
     "execution_count": 45,
     "metadata": {},
     "output_type": "execute_result"
    }
   ],
   "source": [
    "A=[1 2; 3,4]    % une matrice 2x2\n",
    "A=[A A ; 1 7 3 4]  % concatenation par bloc"
   ]
  },
  {
   "cell_type": "code",
   "execution_count": 46,
   "metadata": {
    "collapsed": false
   },
   "outputs": [
    {
     "data": {
      "text/plain": [
       "A =\n",
       "\n",
       "     0     0     0     0\n",
       "     0     0     0     0\n",
       "     0     0     0     0\n",
       "\n",
       "\n",
       "B =\n",
       "\n",
       "     1     1     1\n",
       "     1     1     1\n",
       "     1     1     1\n",
       "     1     1     1\n",
       "\n",
       "\n",
       "C =\n",
       "\n",
       "    0.8147    0.1270\n",
       "    0.9058    0.9134\n",
       "\n",
       "\n",
       "D =\n",
       "\n",
       "     1     0     0     0\n",
       "     0     1     0     0\n",
       "     0     0     1     0"
      ]
     },
     "execution_count": 46,
     "metadata": {},
     "output_type": "execute_result"
    }
   ],
   "source": [
    "A=zeros(3,4)  % création d'une matrice nulle de taille 3x4\n",
    "B=ones(4,3)   % création d'une matrice unité de taille 4x3\n",
    "C=rand(2,2)   % réation d'une matrice 2x2 de coefficients aléatoires de loi uniforme entre 0 et 1\n",
    "D=eye(3,4)    % création d'une matrice identité de taille 3x4"
   ]
  },
  {
   "cell_type": "code",
   "execution_count": 48,
   "metadata": {
    "collapsed": false
   },
   "outputs": [
    {
     "data": {
      "text/plain": [
       "ans =\n",
       "\n",
       "     3     4\n",
       "\n",
       "\n",
       "ans =\n",
       "\n",
       "     3\n",
       "\n",
       "\n",
       "ans =\n",
       "\n",
       "     4\n",
       "\n",
       "\n",
       "ans =\n",
       "\n",
       "     4"
      ]
     },
     "execution_count": 48,
     "metadata": {},
     "output_type": "execute_result"
    }
   ],
   "source": [
    "size(A)      % retourne la dimension n x m de A (sous forme d'un vecteur ligne)\n",
    "size(A,1)    % nombre de ligne\n",
    "size(A,2)    % nombre de colonnes \n",
    "length(A)    % nombre total d'éléments in 3*4"
   ]
  },
  {
   "cell_type": "markdown",
   "metadata": {},
   "source": [
    "## Constructeur a:b , linspace ..."
   ]
  },
  {
   "cell_type": "code",
   "execution_count": 58,
   "metadata": {
    "collapsed": false
   },
   "outputs": [],
   "source": [
    "a=1:7:100; % constructeur début:fin  de début jusqu'à fin par incrément de 1"
   ]
  },
  {
   "cell_type": "code",
   "execution_count": 59,
   "metadata": {
    "collapsed": false
   },
   "outputs": [
    {
     "data": {
      "text/plain": [
       "a =\n",
       "\n",
       "  Columns 1 through 13\n",
       "\n",
       "     1     8    15    22    29    36    43    50    57    64    71    78    85\n",
       "\n",
       "  Columns 14 through 15\n",
       "\n",
       "    92    99"
      ]
     },
     "execution_count": 59,
     "metadata": {},
     "output_type": "execute_result"
    }
   ],
   "source": [
    "a"
   ]
  },
  {
   "cell_type": "code",
   "execution_count": 60,
   "metadata": {
    "collapsed": false
   },
   "outputs": [
    {
     "data": {
      "text/plain": [
       "a =\n",
       "\n",
       "     1     3     5     7\n",
       "\n",
       "\n",
       "a =\n",
       "\n",
       "         0    0.7071    1.4142    2.1213    2.8284"
      ]
     },
     "execution_count": 60,
     "metadata": {},
     "output_type": "execute_result"
    }
   ],
   "source": [
    "a=1:2:8 % de 1 jusqu'à 8 par pas de 2 (la borne 8 n'est pas incluse)\n",
    "a=0:sqrt(2)/2:3 % par pas de 0.7071 "
   ]
  },
  {
   "cell_type": "code",
   "execution_count": 63,
   "metadata": {
    "collapsed": false
   },
   "outputs": [
    {
     "data": {
      "text/plain": [
       "a =\n",
       "\n",
       "   Empty matrix: 1-by-0\n",
       "\n",
       "\n",
       "a =\n",
       "\n",
       "     5     4     3     2     1\n",
       "\n",
       "\n",
       "a =\n",
       "\n",
       "  Columns 1 through 7\n",
       "\n",
       "    5.0000    4.2929    3.5858    2.8787    2.1716    1.4645    0.7574\n",
       "\n",
       "  Column 8\n",
       "\n",
       "    0.0503"
      ]
     },
     "execution_count": 63,
     "metadata": {},
     "output_type": "execute_result"
    }
   ],
   "source": [
    "a=5:1    % Attention résultat surprenant\n",
    "a=5:-1:1 % peut être le résultat escompté ?\n",
    "a=5:-sqrt(2)/2:0"
   ]
  },
  {
   "cell_type": "code",
   "execution_count": 61,
   "metadata": {
    "collapsed": false
   },
   "outputs": [
    {
     "data": {
      "text/plain": [
       "a =\n",
       "\n",
       "         0    0.3333    0.6667"
      ]
     },
     "execution_count": 61,
     "metadata": {},
     "output_type": "execute_result"
    }
   ],
   "source": [
    "a=0:1/3+eps:1 % la borne supérieur 1 n'est pas prise"
   ]
  },
  {
   "cell_type": "code",
   "execution_count": 65,
   "metadata": {
    "collapsed": false
   },
   "outputs": [
    {
     "data": {
      "text/plain": [
       "a =\n",
       "\n",
       "         0    0.3333    0.6667    1.0000\n",
       "\n",
       "\n",
       "ans =\n",
       "\n",
       "     1     4"
      ]
     },
     "execution_count": 65,
     "metadata": {},
     "output_type": "execute_result"
    }
   ],
   "source": [
    "a=linspace(0,1,4) % Une alternative linspace(début,fin,nombre de points)\n",
    "size(a)"
   ]
  },
  {
   "cell_type": "code",
   "execution_count": 64,
   "metadata": {
    "collapsed": false
   },
   "outputs": [
    {
     "data": {
      "text/plain": [
       "b =\n",
       "\n",
       "   10.0000   21.5443   46.4159  100.0000\n",
       "\n",
       "\n",
       "ans =\n",
       "\n",
       "    1.0000    1.3333    1.6667    2.0000"
      ]
     },
     "execution_count": 64,
     "metadata": {},
     "output_type": "execute_result"
    }
   ],
   "source": [
    "b=logspace(1,2,4) % même chose en échelle log\n",
    "log10(b)"
   ]
  },
  {
   "cell_type": "markdown",
   "metadata": {},
   "source": [
    "## Manipulation des tableaux (vecteurs)\n",
    "### Extraction"
   ]
  },
  {
   "cell_type": "code",
   "execution_count": 79,
   "metadata": {
    "collapsed": false
   },
   "outputs": [
    {
     "data": {
      "text/plain": [
       "a =\n",
       "\n",
       "         0    0.3333    0.6667    1.0000\n",
       "\n",
       "\n",
       "ans =\n",
       "\n",
       "     0\n",
       "\n",
       "\n",
       "ans =\n",
       "\n",
       "    0.3333\n",
       "\n",
       "\n",
       "ans =\n",
       "\n",
       "     1\n",
       "\n",
       "\n",
       "ans =\n",
       "\n",
       "    0.6667\n",
       "\n",
       "\n",
       "ans =\n",
       "\n",
       "         0    0.6667\n",
       "\n",
       "\n",
       "ans =\n",
       "\n",
       "    1.0000    0.6667    0.3333         0\n",
       "\n",
       "\n",
       "ans =\n",
       "\n",
       "   Empty matrix: 1-by-0\n",
       "\n",
       "\n",
       "ans =\n",
       "\n",
       "    0.3333    0.3333    0.3333\n",
       "\n",
       "\n",
       "ans =\n",
       "\n",
       "     0"
      ]
     },
     "execution_count": 79,
     "metadata": {},
     "output_type": "execute_result"
    }
   ],
   "source": [
    "a=linspace(0,1,4) \n",
    "a(1)         % les tableaux commencent à 1\n",
    "a(2)\n",
    "a(end)       % end permet de ne pas connaitre a priori la taille du tableau\n",
    "a(end-1)     % l'avant dernier\n",
    "a(1:2:3)       % les deux premier termes\n",
    "a(end:-1:1)  % on inverse l'ordre du tableau\n",
    "a(end:1)     % attention...\n",
    "a(2*ones(3,1))\n",
    "a(1.0)"
   ]
  },
  {
   "cell_type": "markdown",
   "metadata": {},
   "source": [
    "### Affectation"
   ]
  },
  {
   "cell_type": "code",
   "execution_count": 82,
   "metadata": {
    "collapsed": false
   },
   "outputs": [
    {
     "data": {
      "text/plain": [
       "a =\n",
       "\n",
       " -100.0000    1.0000   10.0000    1.0000    1.4142\n",
       "\n",
       "\n",
       "a =\n",
       "\n",
       " -100.0000         0   10.0000    1.0000    1.4142\n",
       "\n",
       "\n",
       "a =\n",
       "\n",
       " -100.0000         0   10.0000   10.0000    1.4142\n",
       "\n",
       "\n",
       "a =\n",
       "\n",
       "         0         0   10.0000   10.0000    1.4142\n",
       "\n",
       "\n",
       "a =\n",
       "\n",
       "   10.0000   10.0000   10.0000   10.0000    1.4142\n",
       "\n",
       "\n",
       "a =\n",
       "\n",
       "  Columns 1 through 7\n",
       "\n",
       "   10.0000   10.0000   10.0000   10.0000    1.4142         0         0\n",
       "\n",
       "  Columns 8 through 14\n",
       "\n",
       "         0         0         0         0         0         0         0\n",
       "\n",
       "  Column 15\n",
       "\n",
       "    1.4142"
      ]
     },
     "execution_count": 82,
     "metadata": {},
     "output_type": "execute_result"
    }
   ],
   "source": [
    "a(1)=-100       \n",
    "a(2)=0\n",
    "a(end-1)=10\n",
    "a(1:2)=0\n",
    "a(1:2)=a(3:4)\n",
    "a(15)=sqrt(2)"
   ]
  },
  {
   "cell_type": "markdown",
   "metadata": {},
   "source": [
    "### Suppression d'éléments"
   ]
  },
  {
   "cell_type": "code",
   "execution_count": 89,
   "metadata": {
    "collapsed": false
   },
   "outputs": [
    {
     "data": {
      "text/plain": [
       "b =\n",
       "\n",
       "     1     2     3     4     5"
      ]
     },
     "execution_count": 89,
     "metadata": {},
     "output_type": "execute_result"
    }
   ],
   "source": [
    "%a(end)=[]\n",
    "%a(5:14)=[]\n",
    "b=1:5\n",
    "%b(1:2:end)=[]\n",
    "%b(1)"
   ]
  },
  {
   "cell_type": "markdown",
   "metadata": {},
   "source": [
    "## Fonctions vectorielles\n",
    "\n",
    "||Opérations vectorielles élémentaires|\n",
    "|-|-|\n",
    "|cumprod()| Produits cumulés des composantes|\n",
    "|cumsum()| Sommes cumulées des composantes|\n",
    "|max() |Plus grande composante|\n",
    "|mean() |Moyenne des composantes|\n",
    "|median()| Médiane des composantes|\n",
    "|min() |Plus petite composante|\n",
    "|prod() |Produit des composantes|\n",
    "|sort() |Tri des composantes|\n",
    "|std() |Ecart type des composantes|\n",
    "|sum() |Somme des composantes|\n"
   ]
  },
  {
   "cell_type": "code",
   "execution_count": 91,
   "metadata": {
    "collapsed": false
   },
   "outputs": [
    {
     "data": {
      "text/plain": [
       "ans =\n",
       "\n",
       "     1\n",
       "     2\n",
       "     3\n",
       "     4\n",
       "     5\n",
       "\n",
       "\n",
       "ans =\n",
       "\n",
       "    15\n",
       "\n",
       "\n",
       "ans =\n",
       "\n",
       "     1     3     6    10    15\n",
       "\n",
       "\n",
       "ans =\n",
       "\n",
       "   120\n",
       "\n",
       "\n",
       "ans =\n",
       "\n",
       "     1     2     6    24   120\n",
       "\n",
       "\n",
       "ans =\n",
       "\n",
       "     5\n",
       "\n",
       "\n",
       "ans =\n",
       "\n",
       "     1\n",
       "\n",
       "\n",
       "m =\n",
       "\n",
       "     1\n",
       "\n",
       "\n",
       "k =\n",
       "\n",
       "     1"
      ]
     },
     "execution_count": 91,
     "metadata": {},
     "output_type": "execute_result"
    }
   ],
   "source": [
    "b'\n",
    "sum(b)\n",
    "cumsum(b)\n",
    "prod(b)\n",
    "cumprod(b)\n",
    "max(b)\n",
    "min(b)\n",
    "[m,k]=min(b)"
   ]
  },
  {
   "cell_type": "code",
   "execution_count": 95,
   "metadata": {
    "collapsed": false
   },
   "outputs": [
    {
     "data": {
      "text/plain": [
       "a =\n",
       "\n",
       "    0.9595\n",
       "    0.6557\n",
       "    0.0357\n",
       "    0.8491\n",
       "    0.9340\n",
       "\n",
       "\n",
       "res =\n",
       "\n",
       "    0.0357\n",
       "    0.6557\n",
       "    0.8491\n",
       "    0.9340\n",
       "    0.9595"
      ]
     },
     "execution_count": 95,
     "metadata": {},
     "output_type": "execute_result"
    }
   ],
   "source": [
    "a=rand(5,1)\n",
    "[res,ind]=sort(a)\n",
    "%a(ind)"
   ]
  },
  {
   "cell_type": "code",
   "execution_count": 98,
   "metadata": {
    "collapsed": false
   },
   "outputs": [
    {
     "data": {
      "text/plain": [
       "c =\n",
       "\n",
       "    1.0000    1.2000    1.4000    1.6000    1.8000    2.0000\n",
       "\n",
       "\n",
       "ans =\n",
       "\n",
       "    2.0000    2.2000    2.4000    2.6000    2.8000    3.0000\n",
       "\n",
       "\n",
       "ans =\n",
       "\n",
       "    2.0000    2.4000    2.8000    3.2000    3.6000    4.0000"
      ]
     },
     "execution_count": 98,
     "metadata": {},
     "output_type": "execute_result"
    }
   ],
   "source": [
    "c=1:0.2:2\n",
    "c+1\n",
    "c*2"
   ]
  },
  {
   "cell_type": "code",
   "execution_count": 101,
   "metadata": {
    "collapsed": false
   },
   "outputs": [
    {
     "data": {
      "text/plain": [
       "ans =\n",
       "\n",
       "    0.8415    0.9320    0.9854    0.9996    0.9738    0.9093"
      ]
     },
     "execution_count": 101,
     "metadata": {},
     "output_type": "execute_result"
    }
   ],
   "source": [
    "sin(c)"
   ]
  },
  {
   "cell_type": "code",
   "execution_count": 113,
   "metadata": {
    "collapsed": false
   },
   "outputs": [
    {
     "data": {
      "text/plain": [
       "d =\n",
       "\n",
       "         0    0.2000    0.4000    0.6000    0.8000    1.0000\n",
       "\n",
       "\n",
       "c =\n",
       "\n",
       "    1.0000    1.2000    1.4000    1.6000    1.8000    2.0000\n",
       "\n",
       "\n",
       "ans =\n",
       "\n",
       "    1.0000    1.4400    1.9600    2.5600    3.2400    4.0000\n",
       "\n",
       "\n",
       "ans =\n",
       "\n",
       "   14.2000\n",
       "\n",
       "\n",
       "ans =\n",
       "\n",
       "    1.0000    1.4400    1.9600    2.5600    3.2400    4.0000\n",
       "\n",
       "\n",
       "ans =\n",
       "\n",
       "         0    0.1667    0.2857    0.3750    0.4444    0.5000\n",
       "\n",
       "\n",
       "ans =\n",
       "\n",
       "     2     4     8    16    32    64\n",
       "\n",
       "\n",
       "ans =\n",
       "\n",
       "   -1.0000   -1.0000   -1.0000   -1.0000   -1.0000   -1.0000"
      ]
     },
     "execution_count": 113,
     "metadata": {},
     "output_type": "execute_result"
    }
   ],
   "source": [
    "d=0:0.2:1\n",
    "c\n",
    "c.*c\n",
    "c*c'\n",
    "c.^2\n",
    "d./c\n",
    "2.^(1:6)\n",
    "d-c"
   ]
  },
  {
   "cell_type": "code",
   "execution_count": 116,
   "metadata": {
    "collapsed": false
   },
   "outputs": [
    {
     "data": {
      "text/plain": [
       "ans =\n",
       "\n",
       "     0     0     1     0     0     0"
      ]
     },
     "execution_count": 116,
     "metadata": {},
     "output_type": "execute_result"
    }
   ],
   "source": [
    "rand(1,6)>sqrt(2)/2"
   ]
  },
  {
   "cell_type": "code",
   "execution_count": 117,
   "metadata": {
    "collapsed": false
   },
   "outputs": [
    {
     "data": {
      "text/plain": [
       "Name      Size            Bytes  Class      Attributes\n",
       "\n",
       "  A         3x4                96  double               \n",
       "  A_23      1x1                 8  double               \n",
       "  B         4x3                96  double               \n",
       "  C         2x2                32  double               \n",
       "  D         3x4                96  double               \n",
       "  a         5x1                40  double               \n",
       "  ans       1x6                 6  logical              \n",
       "  b         1x5                40  double               \n",
       "  c         1x6                48  double               \n",
       "  d         1x6                48  double               \n",
       "  ind       5x1                40  double               \n",
       "  k         1x1                 8  double               \n",
       "  m         1x1                 8  double               \n",
       "  res       5x1                40  double               \n",
       "  tt        1x6                12  char                 \n",
       "  txt       1x3                 6  char                 \n",
       "  txt2      1x22               44  char"
      ]
     },
     "execution_count": 117,
     "metadata": {},
     "output_type": "execute_result"
    }
   ],
   "source": [
    "whos"
   ]
  },
  {
   "cell_type": "code",
   "execution_count": 119,
   "metadata": {
    "collapsed": false
   },
   "outputs": [
    {
     "data": {
      "text/plain": [
       "a =\n",
       "\n",
       "    0.7094    0.7547    0.2760    0.6797    0.6551    0.1626\n",
       "\n",
       "\n",
       "ans =\n",
       "\n",
       "     1     1     1     1     1     0\n",
       "\n",
       "\n",
       "ans =\n",
       "\n",
       "     0     0     0     0     0     0\n",
       "\n",
       "\n",
       "ans =\n",
       "\n",
       "     0     0     0     0     0     0"
      ]
     },
     "execution_count": 119,
     "metadata": {},
     "output_type": "execute_result"
    }
   ],
   "source": [
    "a=rand(1,6)\n",
    "a>0:0.1:0.5\n",
    "a~=a\n",
    "a==1/5"
   ]
  },
  {
   "cell_type": "code",
   "execution_count": 123,
   "metadata": {
    "collapsed": false
   },
   "outputs": [
    {
     "data": {
      "text/plain": [
       "a =\n",
       "\n",
       "    0.7184    0.9686    0.5313    0.3251    0.1056\n",
       "\n",
       "\n",
       "ans =\n",
       "\n",
       "     1     1     1     0     0\n",
       "\n",
       "\n",
       "ans =\n",
       "\n",
       "    0.7184    0.9686    0.5313"
      ]
     },
     "execution_count": 123,
     "metadata": {},
     "output_type": "execute_result"
    }
   ],
   "source": [
    "a=rand(1,5)\n",
    "a>0.5\n",
    "a(a>0.5)  % compression"
   ]
  },
  {
   "cell_type": "code",
   "execution_count": 126,
   "metadata": {
    "collapsed": false
   },
   "outputs": [
    {
     "data": {
      "text/plain": [
       "b =\n",
       "\n",
       "abc"
      ]
     },
     "execution_count": 126,
     "metadata": {},
     "output_type": "execute_result"
    }
   ],
   "source": [
    "b=['a' 'bc']"
   ]
  },
  {
   "cell_type": "code",
   "execution_count": 133,
   "metadata": {
    "collapsed": false
   },
   "outputs": [
    {
     "data": {
      "text/plain": [
       "ans =\n",
       "\n",
       "ab"
      ]
     },
     "execution_count": 133,
     "metadata": {},
     "output_type": "execute_result"
    }
   ],
   "source": [
    "b(1:end-1)"
   ]
  },
  {
   "cell_type": "code",
   "execution_count": 128,
   "metadata": {
    "collapsed": false
   },
   "outputs": [
    {
     "data": {
      "text/plain": [
       "ans =\n",
       "\n",
       "     1     3"
      ]
     },
     "execution_count": 128,
     "metadata": {},
     "output_type": "execute_result"
    }
   ],
   "source": [
    "size(b)"
   ]
  },
  {
   "cell_type": "code",
   "execution_count": 129,
   "metadata": {
    "collapsed": false
   },
   "outputs": [
    {
     "data": {
      "text/plain": [
       "ans =\n",
       "\n",
       "     3"
      ]
     },
     "execution_count": 129,
     "metadata": {},
     "output_type": "execute_result"
    }
   ],
   "source": [
    "length(b)"
   ]
  },
  {
   "cell_type": "code",
   "execution_count": 131,
   "metadata": {
    "collapsed": false
   },
   "outputs": [
    {
     "data": {
      "text/plain": [
       "d =\n",
       "\n",
       "abc\n",
       "abc"
      ]
     },
     "execution_count": 131,
     "metadata": {},
     "output_type": "execute_result"
    }
   ],
   "source": [
    "d=[b;b]"
   ]
  },
  {
   "cell_type": "code",
   "execution_count": 134,
   "metadata": {
    "collapsed": false
   },
   "outputs": [
    {
     "data": {
      "text/plain": [
       "ans =\n",
       "\n",
       "a\n",
       "b\n",
       "c"
      ]
     },
     "execution_count": 134,
     "metadata": {},
     "output_type": "execute_result"
    }
   ],
   "source": [
    "b'"
   ]
  },
  {
   "cell_type": "markdown",
   "metadata": {},
   "source": [
    "# les Matrices"
   ]
  },
  {
   "cell_type": "code",
   "execution_count": 145,
   "metadata": {
    "collapsed": false
   },
   "outputs": [
    {
     "data": {
      "text/plain": [
       "A =\n",
       "\n",
       "     7     8     6     6\n",
       "     2     2     7     6\n",
       "     9     3     5     7\n",
       "     3     1     4     6"
      ]
     },
     "execution_count": 145,
     "metadata": {},
     "output_type": "execute_result"
    }
   ],
   "source": [
    "A=round(10*rand(4,4))"
   ]
  },
  {
   "cell_type": "code",
   "execution_count": 147,
   "metadata": {
    "collapsed": false
   },
   "outputs": [
    {
     "data": {
      "text/plain": [
       "ans =\n",
       "\n",
       "     1\n",
       "    10\n",
       "    15\n",
       "\n",
       "\n",
       "I =\n",
       "\n",
       "     1\n",
       "     2\n",
       "     3\n",
       "\n",
       "\n",
       "J =\n",
       "\n",
       "     1\n",
       "     3\n",
       "     4"
      ]
     },
     "execution_count": 147,
     "metadata": {},
     "output_type": "execute_result"
    }
   ],
   "source": [
    "find(A==7)\n",
    "[I,J]=find(A==7)"
   ]
  },
  {
   "cell_type": "code",
   "execution_count": 141,
   "metadata": {
    "collapsed": false
   },
   "outputs": [
    {
     "data": {
      "text/plain": [
       "ans =\n",
       "\n",
       "    0.1555   -0.3086    0.0458    1.8140\n",
       "\n",
       "\n",
       "ans =\n",
       "\n",
       "    1.8140\n",
       "\n",
       "\n",
       "ans =\n",
       "\n",
       "    0.1555\n",
       "\n",
       "\n",
       "ans =\n",
       "\n",
       "   -1.0966\n",
       "\n",
       "\n",
       "ans =\n",
       "\n",
       "     1\n",
       "\n",
       "\n",
       "I =\n",
       "\n",
       "     1\n",
       "\n",
       "\n",
       "J =\n",
       "\n",
       "     3"
      ]
     },
     "execution_count": 141,
     "metadata": {},
     "output_type": "execute_result"
    }
   ],
   "source": [
    "A(1,1:end)\n",
    "A(1,end)\n",
    "A(1)\n",
    "A(6)\n",
    "find(A==A(1,1)) %\n",
    "[I,J]=find(A==A(1,3)) % position des valeurs egales a 4"
   ]
  },
  {
   "cell_type": "code",
   "execution_count": 149,
   "metadata": {
    "collapsed": false
   },
   "outputs": [
    {
     "data": {
      "text/plain": [
       "ans =\n",
       "\n",
       "     7     8     6     6\n",
       "\n",
       "\n",
       "ans =\n",
       "\n",
       "     7     8     6     6\n",
       "\n",
       "\n",
       "ans =\n",
       "\n",
       "     7     8\n",
       "     2     2\n",
       "\n",
       "\n",
       "ans =\n",
       "\n",
       "     7     8\n",
       "     7     8"
      ]
     },
     "execution_count": 149,
     "metadata": {},
     "output_type": "execute_result"
    }
   ],
   "source": [
    "A(1,1:end) % 1ere ligne\n",
    "A(1,:)\n",
    "A(1:2,1:2) % 1 er bloc des lignes 1,2 et colonnes 1,2  \n",
    "A([1 1],1:2)\n"
   ]
  },
  {
   "cell_type": "code",
   "execution_count": 150,
   "metadata": {
    "collapsed": false
   },
   "outputs": [
    {
     "data": {
      "text/plain": [
       "A =\n",
       "\n",
       "     1     1     1     1\n",
       "     2     2     7     6\n",
       "     9     3     5     7\n",
       "     3     1     4     6\n",
       "\n",
       "\n",
       "A =\n",
       "\n",
       "     2     2     2     2\n",
       "     2     2     7     6\n",
       "     9     3     5     7\n",
       "     3     1     4     6\n",
       "\n",
       "\n",
       "A =\n",
       "\n",
       "     0     0     2     2\n",
       "     0     0     7     6\n",
       "     9     3     5     7\n",
       "     3     1     4     6\n",
       "\n",
       "\n",
       "A =\n",
       "\n",
       "     2     2     2     2\n",
       "     2     2     7     6\n",
       "     9     3     5     7\n",
       "     3     1     4     6"
      ]
     },
     "execution_count": 150,
     "metadata": {},
     "output_type": "execute_result"
    }
   ],
   "source": [
    "A(1,1:end)=1 \n",
    "A(1,:)=2\n",
    "A(1:2,1:2)=0\n",
    "A(1:2,1:2)=A([1 1],[3 4])"
   ]
  },
  {
   "cell_type": "code",
   "execution_count": 152,
   "metadata": {
    "collapsed": false
   },
   "outputs": [
    {
     "data": {
      "text/plain": [
       "A =\n",
       "\n",
       "     0     0     0     0\n",
       "     0     0     0     0\n",
       "     0     0     0     0\n",
       "\n",
       "\n",
       "B =\n",
       "\n",
       "     1     1     1\n",
       "     1     1     1\n",
       "     1     1     1\n",
       "     1     1     1\n",
       "\n",
       "\n",
       "ans =\n",
       "\n",
       "     0     0     0\n",
       "     0     0     0\n",
       "     0     0     0\n",
       "\n",
       "\n",
       "ans =\n",
       "\n",
       "     1     1     1     1\n",
       "     1     1     1     1\n",
       "     1     1     1     1\n",
       "\n",
       "\n",
       "ans =\n",
       "\n",
       "     0     0     0     0\n",
       "     0     0     0     0\n",
       "     0     0     0     0"
      ]
     },
     "execution_count": 152,
     "metadata": {},
     "output_type": "execute_result"
    }
   ],
   "source": [
    "A=zeros(3,4)\n",
    "B=ones(4,3)\n",
    "%C=rand(2,2)\n",
    "%D=eye(3,4)\n",
    "A*B\n",
    "B'\n",
    "B'.*A"
   ]
  },
  {
   "cell_type": "markdown",
   "metadata": {},
   "source": [
    "## Fonctions Matricielles \n",
    "\n",
    "| Fonction| |\n",
    "|:-:|-|\n",
    "|cond() |Conditionnement|\n",
    "|det() |Déterminant\n",
    "|norm() |Norme 1, 2, Frobenius, ∞|\n",
    "|rank() |Rang|\n",
    "|trace()|Trace|\n",
    "|chol() |Factorisation de Cholesky|\n",
    "|inv() |Inverse|\n",
    "|lu() | Factorisation LU|\n",
    "|qr() |Factorisation QR|\n",
    "|eig()|Valeurs propres et vecteurs propres|\n",
    "|poly() |Polynôme caractéristique|\n",
    "|svd() |Sécomposition en valeurs singulières|\n",
    "|expm() |exponentielle de matrice|\n",
    "|sqrtm() |racine carrée de matrice|\n",
    "| \\ ou / | Résolution matricielle |"
   ]
  },
  {
   "cell_type": "code",
   "execution_count": 159,
   "metadata": {
    "collapsed": false
   },
   "outputs": [
    {
     "data": {
      "text/plain": [
       "A =\n",
       "\n",
       "     1     2\n",
       "     1     2\n",
       "\n",
       "[\bWarning: Matrix is singular to working precision.]\b \n",
       "[\b> In pymat_eval (line 31)\n",
       "  In matlabserver (line 24)]\b \n",
       "\n",
       "ans =\n",
       "\n",
       "   Inf   Inf\n",
       "   Inf   Inf\n",
       "\n",
       "\n",
       "b =\n",
       "\n",
       "     1\n",
       "     1\n",
       "\n",
       "[\bWarning: Matrix is singular to working precision.]\b \n",
       "[\b> In pymat_eval (line 31)\n",
       "  In matlabserver (line 24)]\b \n",
       "\n",
       "x =\n",
       "\n",
       "   NaN\n",
       "   NaN"
      ]
     },
     "execution_count": 159,
     "metadata": {},
     "output_type": "execute_result"
    }
   ],
   "source": [
    "A=[1 2;1 2]\n",
    "inv(A)\n",
    "b=[1;1]\n",
    "x=A\\b\n"
   ]
  },
  {
   "cell_type": "code",
   "execution_count": 163,
   "metadata": {
    "collapsed": false
   },
   "outputs": [
    {
     "data": {
      "text/plain": [
       "C =\n",
       "\n",
       "    0.6135    0.5407\n",
       "    0.5822    0.8699\n",
       "\n",
       "\n",
       "ans =\n",
       "\n",
       "    3.9754   -2.4711\n",
       "   -2.6607    2.8034\n",
       "\n",
       "\n",
       "ans =\n",
       "\n",
       "    3.9754   -2.4711\n",
       "   -2.6607    2.8034\n",
       "\n",
       "\n",
       "ans =\n",
       "\n",
       "    1.4834\n",
       "\n",
       "\n",
       "V =\n",
       "\n",
       "   -0.7705   -0.6092\n",
       "    0.6374   -0.7930\n",
       "\n",
       "\n",
       "D =\n",
       "\n",
       "    0.1661         0\n",
       "         0    1.3173"
      ]
     },
     "execution_count": 163,
     "metadata": {},
     "output_type": "execute_result"
    }
   ],
   "source": [
    "\n",
    "C=rand(2,2)\n",
    "%C^2\n",
    "%C.^2\n",
    "%C./[2 2; 3 3]\n",
    "inv(C)\n",
    "C^(-1)\n",
    "trace(C)\n",
    "[V,D]=eig(C)   %V est une matrice dont les colonnes sont les composantes des vecteurs propres\n",
    "               % D est une matrice dont les diagonales sont les valeurs propres. \n",
    "%norm(C*V(:,1)-l(1,1)*V(:,1))\n",
    "%norm(C,inf)"
   ]
  },
  {
   "cell_type": "code",
   "execution_count": null,
   "metadata": {
    "collapsed": false
   },
   "outputs": [],
   "source": [
    "sin(C)"
   ]
  },
  {
   "cell_type": "markdown",
   "metadata": {},
   "source": [
    "|| Manipulation de matrices |\n",
    "|-|-|\n",
    "|diag |Crée ou extrait une matrice diagonale |\n",
    "|fliplr | Permutte les colonnes d’une matrice |\n",
    "|flipud |Permutte les lignes d’une matrice |\n",
    "|reshape |Modifie la taille d’une matrice|\n",
    "|rot90 |Rotation de 90° dans le sens trigonométrique|\n",
    "|tril |Extrait une matrice triangualaire inférieure|\n",
    "|triu |Extrait une matrice triangualaire supérieure|"
   ]
  },
  {
   "cell_type": "code",
   "execution_count": 167,
   "metadata": {
    "collapsed": false
   },
   "outputs": [
    {
     "data": {
      "text/plain": [
       "A =\n",
       "\n",
       "    0.5201    0.5861    0.7549    0.6878\n",
       "    0.3477    0.2621    0.2428    0.3592\n",
       "    0.1500    0.0445    0.4424    0.7363\n",
       "\n",
       "\n",
       "B =\n",
       "\n",
       "    0.5201    0.2621    0.4424\n",
       "    0.3477    0.0445    0.6878\n",
       "    0.1500    0.7549    0.3592\n",
       "    0.5861    0.2428    0.7363"
      ]
     },
     "execution_count": 167,
     "metadata": {},
     "output_type": "execute_result"
    }
   ],
   "source": [
    "A=rand(3,4)\n",
    "B=reshape(A,4,3)"
   ]
  },
  {
   "cell_type": "code",
   "execution_count": 171,
   "metadata": {
    "collapsed": false
   },
   "outputs": [
    {
     "data": {
      "text/plain": [
       "a =\n",
       "\n",
       "     1     6    11    16    21\n",
       "     2     7    12    17    22\n",
       "     3     8    13    18    23\n",
       "     4     9    14    19    24\n",
       "     5    10    15    20    25"
      ]
     },
     "execution_count": 171,
     "metadata": {},
     "output_type": "execute_result"
    }
   ],
   "source": [
    "a=1:25;\n",
    "a=reshape(a,5,5)"
   ]
  },
  {
   "cell_type": "code",
   "execution_count": 174,
   "metadata": {
    "collapsed": false
   },
   "outputs": [
    {
     "data": {
      "text/plain": [
       "ans =\n",
       "\n",
       "     6\n",
       "    12\n",
       "    18\n",
       "    24"
      ]
     },
     "execution_count": 174,
     "metadata": {},
     "output_type": "execute_result"
    }
   ],
   "source": [
    "diag(a,1)"
   ]
  },
  {
   "cell_type": "code",
   "execution_count": 176,
   "metadata": {
    "collapsed": false
   },
   "outputs": [
    {
     "data": {
      "text/plain": [
       "ans =\n",
       "\n",
       "     1     0     0     0     0\n",
       "     0     2     0     0     0\n",
       "     0     0     3     0     0\n",
       "     0     0     0     4     0\n",
       "     0     0     0     0     5"
      ]
     },
     "execution_count": 176,
     "metadata": {},
     "output_type": "execute_result"
    }
   ],
   "source": [
    "diag(1:5)"
   ]
  },
  {
   "cell_type": "code",
   "execution_count": 177,
   "metadata": {
    "collapsed": false
   },
   "outputs": [
    {
     "data": {
      "text/plain": [
       "ans =\n",
       "\n",
       "    0.5201    0.5861    0.7549    0.6878\n",
       "         0    0.2621    0.2428    0.3592\n",
       "         0         0    0.4424    0.7363"
      ]
     },
     "execution_count": 177,
     "metadata": {},
     "output_type": "execute_result"
    }
   ],
   "source": [
    "triu(A)"
   ]
  },
  {
   "cell_type": "markdown",
   "metadata": {},
   "source": [
    "## Graphiques"
   ]
  },
  {
   "cell_type": "code",
   "execution_count": null,
   "metadata": {
    "collapsed": true
   },
   "outputs": [],
   "source": [
    "%plot -s 1600,800"
   ]
  },
  {
   "cell_type": "code",
   "execution_count": null,
   "metadata": {
    "collapsed": false
   },
   "outputs": [],
   "source": [
    "f=figure();\n",
    "t=0:0.1:20;\n",
    "plot(t,sin(t))\n",
    "xlabel('Time(sec)')\n",
    "ylabel('y')\n",
    "title('Un exemple')"
   ]
  },
  {
   "cell_type": "markdown",
   "metadata": {},
   "source": [
    "| | Graphique 2D |\n",
    "|-|-|\n",
    "|bar() |Diagramme en barres|\n",
    "|fplot() | Graphe de fonction|\n",
    "|grid() |Quadrillage|\n",
    "|hist() |Histogramme|\n",
    "|plot() |Graphe 2D|\n",
    "|polar() |Graphe en coordonnées polaires|\n",
    "|title() |Titre de graphique|\n",
    "|xlabel() | Légende axe horizontal|\n",
    "|ylabel() |Légende axe vertical|\n",
    "|legends() | Nom des courbes|"
   ]
  },
  {
   "cell_type": "code",
   "execution_count": null,
   "metadata": {
    "collapsed": false
   },
   "outputs": [],
   "source": [
    "x=0:0.1:3*pi ; y=sin(x); z=cos(x);\n",
    "subplot(221)\n",
    "plot(x(1:3:end),x(1:3:end).^2,'c*')\n",
    "title('x et y')\n",
    "subplot(222)\n",
    "plot(x,y)\n",
    "title('x et y')\n",
    "subplot(223)\n",
    "\n",
    "plot(x,z)\n",
    "title('x et z')\n",
    "subplot(224)\n",
    "plot(x, y, 'r-', x, z, 'g-')\n",
    "title('x et [y z]')"
   ]
  },
  {
   "cell_type": "markdown",
   "metadata": {},
   "source": [
    "# Exercices\n",
    "\n",
    "**Exercice 0** \n",
    "\n",
    "1. Ecrire le vecteur (1 2 4), obtenir sa transposee.\n",
    "\n",
    "2. Calculer le module est l’argument de $\\dfrac{1}{1+2i}$\n",
    "\n",
    "6.  Entrer les matrices :\n",
    "$$\n",
    "A=\\left(\n",
    "\\begin{array}{ccc}\n",
    "1 & 2 & 2\\\\\n",
    "0 & 1 & 2\\\\\n",
    "0 & 0 & 1\n",
    "\\end{array}  \\right) \\quad\n",
    "B=\\left(\n",
    "\\begin{array}{ccc}\n",
    "0 & 1 & 1\\\\\n",
    "1 & 0 & 1\\\\\n",
    "1 & 1 & 0\n",
    "\\end{array}  \\right)\n",
    "$$\n",
    "\n",
    "Faire le produit matriciel $A \\times B$, puis multiplier terme à terme $A$\n",
    "et la transposée de $B$.\n",
    "\n",
    "**Exercice 1**\n",
    "\n",
    "Soit A = [1:4 ; 5:8 ; 9:12 ; 13:16] \n",
    "\n",
    "1. Quel est le résultat de l’instruction A(10:-1:5) ?\n",
    "\n",
    "2. Comment créer un vecteur contenant les éléments de A dans l’ordre suivant : 16 12 8 4 15 11 ?\n",
    "\n",
    "3. Quel est le résultat de l’instruction [A(1,:),5] ? \n",
    "\n",
    "4. Comment créer un vecteur contenant les éléments de A dans l’ordre suivant : 1 2 3 4 5 ?\n",
    "\n",
    "5. Quel est le résultat de diag(diag(A)) ?\n",
    "\n",
    "**Exercice 2** Créer une matrice de ce type\n",
    "\n",
    "\n",
    "         0         0         0         0         0\n",
    "         0   -0.1774    0.2916   -0.8045         0\n",
    "         0   -0.1961    0.1978    0.6966         0\n",
    "         0    1.4193    1.5877    0.8351         0\n",
    "         0         0         0         0         0\n",
    "         \n",
    "les éléments de la matrice 3×3 centrale étant choisit suivant une loi normale centrée réduite.\n",
    "\n",
    "**Exercice 3** Soit $M = magic(4)$. Comment expliquer le résultat de l’instruction M(M) ?\n",
    "\n",
    "**Exercice 4** Créer un vecteur des puissances de 2 de 0 à 16 (2^0, 2^1...).\n",
    "\n",
    "**Exercice 5** Créer une matrice 10×4, contenant les puissances de 0 à 9 des nombres 2, 3, 4 et 5.\n",
    "\n",
    "**Exercice 6** Quel est le résultat de l’instruction suivante ?\n",
    "M = [1 2 3; 4 5 6; 7 8 9];\n",
    "M ~= diag(diag(M))\n",
    "\n",
    "**Exercice 7** Créer une matrice triangulaire supérieur de dimension 10×10 avec seulement\n",
    "des 1 dans sa partie supérieure.\n",
    "\n"
   ]
  },
  {
   "cell_type": "markdown",
   "metadata": {},
   "source": [
    "## Eléments de programmation\n",
    "\n",
    "if .. then else"
   ]
  },
  {
   "cell_type": "code",
   "execution_count": null,
   "metadata": {
    "collapsed": false
   },
   "outputs": [],
   "source": [
    "a=2\n",
    "if a>1 ; b=2 ,end\n",
    "\n",
    "if a>3 \n",
    "   b=1\n",
    "else\n",
    "   b=0\n",
    "end\n",
    "\n",
    "if a>1 \n",
    "   b=2\n",
    "elseif a<6\n",
    "   b=0\n",
    "elseif a<5\n",
    "   b=-4\n",
    "else\n",
    "   b=10\n",
    "end\n",
    "\n",
    "if a>1 \n",
    "   b=2\n",
    "elseif a<6\n",
    "   b=0\n",
    "end\n"
   ]
  },
  {
   "cell_type": "code",
   "execution_count": null,
   "metadata": {
    "collapsed": false
   },
   "outputs": [],
   "source": [
    "i=1\n",
    "while i<6\n",
    "     i=i+0.34\n",
    "end"
   ]
  },
  {
   "cell_type": "code",
   "execution_count": null,
   "metadata": {
    "collapsed": false
   },
   "outputs": [],
   "source": [
    "for i=1:3\n",
    "  disp(i)\n",
    "end\n",
    "disp('###############')\n",
    "for i=[2 7 8]\n",
    "    disp(i)\n",
    "end\n",
    "disp('###############')\n",
    "for i=rand(1,3)\n",
    "    disp(i)\n",
    "end\n",
    "disp('###############') \n",
    "for i=[2 7 8;-2 -7 -8]\n",
    "    disp(i)\n",
    "end \n",
    "disp('###############')\n",
    "for i=[2;7;8]\n",
    "    disp(i)\n",
    "end"
   ]
  },
  {
   "cell_type": "markdown",
   "metadata": {
    "collapsed": true
   },
   "source": [
    "## Fonctions"
   ]
  },
  {
   "cell_type": "code",
   "execution_count": null,
   "metadata": {
    "collapsed": true
   },
   "outputs": [],
   "source": [
    "**Exercice 8** Que fait cet algorithme (crible d'Eratosthene)\n",
    "n = 49;\n",
    "T = ones(1,n);\n",
    "for k = 2:sqrt(n)\n",
    "if T(k)==1\n",
    "T(2*k:k:n)=0;\n",
    "end\n",
    "end\n",
    "find(T)"
   ]
  },
  {
   "cell_type": "code",
   "execution_count": null,
   "metadata": {
    "collapsed": true
   },
   "outputs": [],
   "source": []
  }
 ],
 "metadata": {
  "kernelspec": {
   "display_name": "Matlab",
   "language": "matlab",
   "name": "matlab_kernel"
  },
  "language_info": {
   "codemirror_mode": "Octave",
   "file_extension": ".m",
   "help_links": [
    {
     "text": "MetaKernel Magics",
     "url": "https://github.com/calysto/metakernel/blob/master/metakernel/magics/README.md"
    }
   ],
   "mimetype": "text/x-matlab",
   "name": "octave"
  }
 },
 "nbformat": 4,
 "nbformat_minor": 0
}
